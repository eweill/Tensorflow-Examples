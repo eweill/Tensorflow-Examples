{
 "cells": [
  {
   "cell_type": "code",
   "execution_count": 1,
   "metadata": {
    "collapsed": true
   },
   "outputs": [],
   "source": [
    "# A bidirectional Recurrent Network (LSTM) implementation example using Tensorflow library.\n",
    "# This example is using MNIST databse of handwritten digits (http://yann.lecum.com/exdb/mnist/)\n",
    "# Long Short Term Memory paper: http://deeplearning.cs.cmu.edu/pdfs/Hochreiter97_lstm.pdf\n",
    "\n",
    "# Author: Edwin Weill"
   ]
  },
  {
   "cell_type": "code",
   "execution_count": 2,
   "metadata": {
    "collapsed": false
   },
   "outputs": [
    {
     "name": "stdout",
     "output_type": "stream",
     "text": [
      "Successfully downloaded train-images-idx3-ubyte.gz 9912422 bytes.\n",
      "Extracting MNIST_data/train-images-idx3-ubyte.gz\n",
      "Successfully downloaded train-labels-idx1-ubyte.gz 28881 bytes.\n",
      "Extracting MNIST_data/train-labels-idx1-ubyte.gz\n",
      "Successfully downloaded t10k-images-idx3-ubyte.gz 1648877 bytes.\n",
      "Extracting MNIST_data/t10k-images-idx3-ubyte.gz\n",
      "Successfully downloaded t10k-labels-idx1-ubyte.gz 4542 bytes.\n",
      "Extracting MNIST_data/t10k-labels-idx1-ubyte.gz\n"
     ]
    }
   ],
   "source": [
    "import tensorflow as tf\n",
    "from tensorflow.contrib import rnn\n",
    "import numpy as np\n",
    "\n",
    "# Import MNIST data\n",
    "from tensorflow.examples.tutorials.mnist import input_data\n",
    "mnist = input_data.read_data_sets(\"MNIST_data/\", one_hot=True)"
   ]
  },
  {
   "cell_type": "code",
   "execution_count": 3,
   "metadata": {
    "collapsed": true
   },
   "outputs": [],
   "source": [
    "# To classify images using a bidirectional recurrent neural network, we consider every image row\n",
    "# as a sequence of pixels.  Because MNIST image shape is 28*28px, we will then handle 28 sequences\n",
    "# of 28 steps for every sample."
   ]
  },
  {
   "cell_type": "code",
   "execution_count": 4,
   "metadata": {
    "collapsed": true
   },
   "outputs": [],
   "source": [
    "# Parameters\n",
    "learning_rate = 0.001\n",
    "training_iters = 100000\n",
    "batch_size = 128\n",
    "display_step = 10\n",
    "\n",
    "# Network Parameters\n",
    "n_input = 28 # MNIST data input (img shape: 28*28)\n",
    "n_steps = 28 # timesteps\n",
    "n_hidden = 128 # hidden layer num of features\n",
    "n_classes = 10 # MNIST total classes (0-9 digits)\n",
    "\n",
    "# tf Graph input\n",
    "x = tf.placeholder(\"float\", [None, n_steps, n_input])\n",
    "y = tf.placeholder(\"float\", [None, n_classes])\n",
    "\n",
    "# Define weights\n",
    "weights = {\n",
    "    # Hidden layer weights => 2*n_hidden because of foward + backward cells\n",
    "    'out': tf.Variable(tf.random_normal([2*n_hidden, n_classes]))\n",
    "}\n",
    "biases = {\n",
    "    'out': tf.Variable(tf.random_normal([n_classes]))\n",
    "}"
   ]
  },
  {
   "cell_type": "code",
   "execution_count": 5,
   "metadata": {
    "collapsed": true
   },
   "outputs": [],
   "source": [
    "def BiRNN(x, weights, biases):\n",
    "\n",
    "    # Prepare data shape to match `bidirectional_rnn` function requirements\n",
    "    # Current data input shape: (batch_size, n_steps, n_input)\n",
    "    # Required shape: 'n_steps' tensors list of shape (batch_size, n_input)\n",
    "    \n",
    "    # Permuting batch_size and n_steps\n",
    "    x = tf.transpose(x, [1, 0, 2])\n",
    "    # Reshape to (n_steps*batch_size, n_input)\n",
    "    x = tf.reshape(x, [-1, n_input])\n",
    "    # Split to get a list of 'n_steps' tensors of shape (batch_size, n_input)\n",
    "    x = tf.split(x, n_steps, 0)\n",
    "\n",
    "    # Define lstm cells with tensorflow\n",
    "    # Forward direction cell\n",
    "    lstm_fw_cell = rnn.BasicLSTMCell(n_hidden, forget_bias=1.0)\n",
    "    # Backward direction cell\n",
    "    lstm_bw_cell = rnn.BasicLSTMCell(n_hidden, forget_bias=1.0)\n",
    "\n",
    "    # Get lstm cell output\n",
    "    try:\n",
    "        outputs, _, _ = rnn.static_bidirectional_rnn(lstm_fw_cell, lstm_bw_cell, x,\n",
    "                                              dtype=tf.float32)\n",
    "    except Exception: # Old TensorFlow version only returns outputs not states\n",
    "        outputs = rnn.static_bidirectional_rnn(lstm_fw_cell, lstm_bw_cell, x,\n",
    "                                        dtype=tf.float32)\n",
    "\n",
    "    # Linear activation, using rnn inner loop last output\n",
    "    return tf.matmul(outputs[-1], weights['out']) + biases['out']\n",
    "\n",
    "pred = BiRNN(x, weights, biases)\n",
    "\n",
    "# Define loss and optimizer\n",
    "cost = tf.reduce_mean(tf.nn.softmax_cross_entropy_with_logits(logits=pred, labels=y))\n",
    "optimizer = tf.train.AdamOptimizer(learning_rate=learning_rate).minimize(cost)\n",
    "\n",
    "# Evaluate model\n",
    "correct_pred = tf.equal(tf.argmax(pred,1), tf.argmax(y,1))\n",
    "accuracy = tf.reduce_mean(tf.cast(correct_pred, tf.float32))\n",
    "\n",
    "# Initializing the variables\n",
    "init = tf.global_variables_initializer()"
   ]
  },
  {
   "cell_type": "code",
   "execution_count": 6,
   "metadata": {
    "collapsed": false
   },
   "outputs": [
    {
     "name": "stdout",
     "output_type": "stream",
     "text": [
      "Iter 1280, Minibatch Loss= 1.845306, Training Accuracy= 0.34375\n",
      "Iter 2560, Minibatch Loss= 1.591070, Training Accuracy= 0.50000\n",
      "Iter 3840, Minibatch Loss= 1.270246, Training Accuracy= 0.52344\n",
      "Iter 5120, Minibatch Loss= 1.016499, Training Accuracy= 0.69531\n",
      "Iter 6400, Minibatch Loss= 0.827709, Training Accuracy= 0.72656\n",
      "Iter 7680, Minibatch Loss= 1.199231, Training Accuracy= 0.53125\n",
      "Iter 8960, Minibatch Loss= 0.907773, Training Accuracy= 0.71094\n",
      "Iter 10240, Minibatch Loss= 0.759398, Training Accuracy= 0.76562\n",
      "Iter 11520, Minibatch Loss= 0.471603, Training Accuracy= 0.85156\n",
      "Iter 12800, Minibatch Loss= 0.767403, Training Accuracy= 0.76562\n",
      "Iter 14080, Minibatch Loss= 0.672056, Training Accuracy= 0.78906\n",
      "Iter 15360, Minibatch Loss= 0.392411, Training Accuracy= 0.86719\n",
      "Iter 16640, Minibatch Loss= 0.481015, Training Accuracy= 0.87500\n",
      "Iter 17920, Minibatch Loss= 0.363415, Training Accuracy= 0.93750\n",
      "Iter 19200, Minibatch Loss= 0.264130, Training Accuracy= 0.89062\n",
      "Iter 20480, Minibatch Loss= 0.156168, Training Accuracy= 0.95312\n",
      "Iter 21760, Minibatch Loss= 0.573617, Training Accuracy= 0.82812\n",
      "Iter 23040, Minibatch Loss= 0.188405, Training Accuracy= 0.94531\n",
      "Iter 24320, Minibatch Loss= 0.400125, Training Accuracy= 0.87500\n",
      "Iter 25600, Minibatch Loss= 0.408759, Training Accuracy= 0.86719\n",
      "Iter 26880, Minibatch Loss= 0.273998, Training Accuracy= 0.91406\n",
      "Iter 28160, Minibatch Loss= 0.260182, Training Accuracy= 0.91406\n",
      "Iter 29440, Minibatch Loss= 0.348518, Training Accuracy= 0.92188\n",
      "Iter 30720, Minibatch Loss= 0.299898, Training Accuracy= 0.87500\n",
      "Iter 32000, Minibatch Loss= 0.211566, Training Accuracy= 0.92969\n",
      "Iter 33280, Minibatch Loss= 0.284616, Training Accuracy= 0.90625\n",
      "Iter 34560, Minibatch Loss= 0.248274, Training Accuracy= 0.93750\n",
      "Iter 35840, Minibatch Loss= 0.186837, Training Accuracy= 0.95312\n",
      "Iter 37120, Minibatch Loss= 0.322050, Training Accuracy= 0.90625\n",
      "Iter 38400, Minibatch Loss= 0.151834, Training Accuracy= 0.96094\n",
      "Iter 39680, Minibatch Loss= 0.132473, Training Accuracy= 0.93750\n",
      "Iter 40960, Minibatch Loss= 0.366582, Training Accuracy= 0.87500\n",
      "Iter 42240, Minibatch Loss= 0.144145, Training Accuracy= 0.96094\n",
      "Iter 43520, Minibatch Loss= 0.169873, Training Accuracy= 0.95312\n",
      "Iter 44800, Minibatch Loss= 0.254438, Training Accuracy= 0.91406\n",
      "Iter 46080, Minibatch Loss= 0.148366, Training Accuracy= 0.94531\n",
      "Iter 47360, Minibatch Loss= 0.256082, Training Accuracy= 0.93750\n",
      "Iter 48640, Minibatch Loss= 0.236513, Training Accuracy= 0.92188\n",
      "Iter 49920, Minibatch Loss= 0.233786, Training Accuracy= 0.91406\n",
      "Iter 51200, Minibatch Loss= 0.116506, Training Accuracy= 0.96094\n",
      "Iter 52480, Minibatch Loss= 0.170712, Training Accuracy= 0.93750\n",
      "Iter 53760, Minibatch Loss= 0.041430, Training Accuracy= 0.97656\n",
      "Iter 55040, Minibatch Loss= 0.168576, Training Accuracy= 0.92969\n",
      "Iter 56320, Minibatch Loss= 0.161794, Training Accuracy= 0.93750\n",
      "Iter 57600, Minibatch Loss= 0.204111, Training Accuracy= 0.95312\n",
      "Iter 58880, Minibatch Loss= 0.108914, Training Accuracy= 0.95312\n",
      "Iter 60160, Minibatch Loss= 0.192056, Training Accuracy= 0.94531\n",
      "Iter 61440, Minibatch Loss= 0.090246, Training Accuracy= 0.97656\n",
      "Iter 62720, Minibatch Loss= 0.167294, Training Accuracy= 0.93750\n",
      "Iter 64000, Minibatch Loss= 0.198790, Training Accuracy= 0.92969\n",
      "Iter 65280, Minibatch Loss= 0.200056, Training Accuracy= 0.94531\n",
      "Iter 66560, Minibatch Loss= 0.099477, Training Accuracy= 0.97656\n",
      "Iter 67840, Minibatch Loss= 0.102847, Training Accuracy= 0.97656\n",
      "Iter 69120, Minibatch Loss= 0.186325, Training Accuracy= 0.94531\n",
      "Iter 70400, Minibatch Loss= 0.164780, Training Accuracy= 0.95312\n",
      "Iter 71680, Minibatch Loss= 0.133459, Training Accuracy= 0.94531\n",
      "Iter 72960, Minibatch Loss= 0.181107, Training Accuracy= 0.95312\n",
      "Iter 74240, Minibatch Loss= 0.119442, Training Accuracy= 0.94531\n",
      "Iter 75520, Minibatch Loss= 0.117613, Training Accuracy= 0.96094\n",
      "Iter 76800, Minibatch Loss= 0.110754, Training Accuracy= 0.96094\n",
      "Iter 78080, Minibatch Loss= 0.177538, Training Accuracy= 0.96094\n",
      "Iter 79360, Minibatch Loss= 0.108763, Training Accuracy= 0.95312\n",
      "Iter 80640, Minibatch Loss= 0.138951, Training Accuracy= 0.96094\n",
      "Iter 81920, Minibatch Loss= 0.110133, Training Accuracy= 0.96875\n",
      "Iter 83200, Minibatch Loss= 0.144646, Training Accuracy= 0.95312\n",
      "Iter 84480, Minibatch Loss= 0.156098, Training Accuracy= 0.93750\n",
      "Iter 85760, Minibatch Loss= 0.240431, Training Accuracy= 0.90625\n",
      "Iter 87040, Minibatch Loss= 0.105083, Training Accuracy= 0.96094\n",
      "Iter 88320, Minibatch Loss= 0.100277, Training Accuracy= 0.96875\n",
      "Iter 89600, Minibatch Loss= 0.075898, Training Accuracy= 0.97656\n",
      "Iter 90880, Minibatch Loss= 0.129251, Training Accuracy= 0.95312\n",
      "Iter 92160, Minibatch Loss= 0.203616, Training Accuracy= 0.92969\n",
      "Iter 93440, Minibatch Loss= 0.075759, Training Accuracy= 0.98438\n",
      "Iter 94720, Minibatch Loss= 0.122788, Training Accuracy= 0.94531\n",
      "Iter 96000, Minibatch Loss= 0.237807, Training Accuracy= 0.92188\n",
      "Iter 97280, Minibatch Loss= 0.060356, Training Accuracy= 0.97656\n",
      "Iter 98560, Minibatch Loss= 0.100218, Training Accuracy= 0.95312\n",
      "Iter 99840, Minibatch Loss= 0.100387, Training Accuracy= 0.96875\n",
      "Optimization Finished!\n",
      "Testing Accuracy: 0.976562\n"
     ]
    }
   ],
   "source": [
    "# Launch the graph\n",
    "with tf.Session() as sess:\n",
    "    sess.run(init)\n",
    "    step = 1\n",
    "    # Keep training until reach max iterations\n",
    "    while step * batch_size < training_iters:\n",
    "        batch_x, batch_y = mnist.train.next_batch(batch_size)\n",
    "        # Reshape data to get 28 seq of 28 elements\n",
    "        batch_x = batch_x.reshape((batch_size, n_steps, n_input))\n",
    "        # Run optimization op (backprop)\n",
    "        sess.run(optimizer, feed_dict={x: batch_x, y: batch_y})\n",
    "        if step % display_step == 0:\n",
    "            # Calculate batch accuracy\n",
    "            acc = sess.run(accuracy, feed_dict={x: batch_x, y: batch_y})\n",
    "            # Calculate batch loss\n",
    "            loss = sess.run(cost, feed_dict={x: batch_x, y: batch_y})\n",
    "            print \"Iter \" + str(step*batch_size) + \", Minibatch Loss= \" + \\\n",
    "                  \"{:.6f}\".format(loss) + \", Training Accuracy= \" + \\\n",
    "                  \"{:.5f}\".format(acc)\n",
    "        step += 1\n",
    "    print \"Optimization Finished!\"\n",
    "\n",
    "    # Calculate accuracy for 128 mnist test images\n",
    "    test_len = 128\n",
    "    test_data = mnist.test.images[:test_len].reshape((-1, n_steps, n_input))\n",
    "    test_label = mnist.test.labels[:test_len]\n",
    "    print \"Testing Accuracy:\", \\\n",
    "        sess.run(accuracy, feed_dict={x: test_data, y: test_label})"
   ]
  }
 ],
 "metadata": {
  "kernelspec": {
   "display_name": "Python 2 (Tensorflow)",
   "language": "python",
   "name": "tensorflow"
  },
  "language_info": {
   "codemirror_mode": {
    "name": "ipython",
    "version": 2
   },
   "file_extension": ".py",
   "mimetype": "text/x-python",
   "name": "python",
   "nbconvert_exporter": "python",
   "pygments_lexer": "ipython2",
   "version": "2.7.6"
  }
 },
 "nbformat": 4,
 "nbformat_minor": 1
}
