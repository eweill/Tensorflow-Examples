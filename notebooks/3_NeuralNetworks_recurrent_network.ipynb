{
 "cells": [
  {
   "cell_type": "code",
   "execution_count": 1,
   "metadata": {
    "collapsed": true
   },
   "outputs": [],
   "source": [
    "# A Recurrent Neural Network (LSTM) implementation examples using \n",
    "# TensorFlow library\n",
    "# This example is using the MNIST database of handwritten digits\n",
    "\n",
    "# Author: Edwin Weill"
   ]
  },
  {
   "cell_type": "code",
   "execution_count": 2,
   "metadata": {
    "collapsed": false
   },
   "outputs": [
    {
     "name": "stdout",
     "output_type": "stream",
     "text": [
      "Extracting /home/eweill/data/train-images-idx3-ubyte.gz\n",
      "Extracting /home/eweill/data/train-labels-idx1-ubyte.gz\n",
      "Extracting /home/eweill/data/t10k-images-idx3-ubyte.gz\n",
      "Extracting /home/eweill/data/t10k-labels-idx1-ubyte.gz\n"
     ]
    }
   ],
   "source": [
    "import tensorflow as tf\n",
    "from tensorflow.contrib import rnn\n",
    "import numpy as np\n",
    "\n",
    "# Import MNIST data\n",
    "from tensorflow.examples.tutorials.mnist import input_data\n",
    "mnist = input_data.read_data_sets(\"/home/eweill/data/\", one_hot=True)"
   ]
  },
  {
   "cell_type": "code",
   "execution_count": 3,
   "metadata": {
    "collapsed": true
   },
   "outputs": [],
   "source": [
    "# To classify images using a recurrent neural network, we consider\n",
    "# every image row as a sequence of pixels. Because MNIST image shape\n",
    "# is 28*28px, we will then handle 28 sequences of 28 steps for every\n",
    "# sample."
   ]
  },
  {
   "cell_type": "code",
   "execution_count": 4,
   "metadata": {
    "collapsed": true
   },
   "outputs": [],
   "source": [
    "# Parameters\n",
    "learning_rate = 0.001\n",
    "training_iters = 100000\n",
    "batch_size = 128\n",
    "display_step = 10\n",
    "\n",
    "# Network Parameters\n",
    "n_input = 28 # MNIST data input (img shape: 28*28)\n",
    "n_steps = 28 # timesteps\n",
    "n_hidden = 128 # hidden layer num of features\n",
    "n_classes = 10 # MNIST total classes (0-9)\n",
    "\n",
    "# tf Graph input\n",
    "x = tf.placeholder(\"float\", [None, n_steps, n_input])\n",
    "y = tf.placeholder(\"float\", [None, n_classes])\n",
    "\n",
    "# Define weights\n",
    "weights = {\n",
    "    'out': tf.Variable(tf.random_normal([n_hidden, n_classes]))\n",
    "}\n",
    "biases = {\n",
    "    'out': tf.Variable(tf.random_normal([n_classes]))\n",
    "}"
   ]
  },
  {
   "cell_type": "code",
   "execution_count": 5,
   "metadata": {
    "collapsed": true
   },
   "outputs": [],
   "source": [
    "def RNN(x, weights, biases):\n",
    "    \n",
    "    # Prepare data shape to match `rnn` function requirements\n",
    "    # Current data input shape: (batch_size, n_steps, n_input)\n",
    "    # Required shape: 'n_steps' tensors list of shape (batch_size, n_input)\n",
    "    \n",
    "    # Permuting batch_size and n_steps\n",
    "    x = tf.transpose(x, [1, 0, 2])\n",
    "    \n",
    "    # Reshaping to (n_steps*batch_size, n_input)\n",
    "    x = tf.reshape(x, [-1, n_input])\n",
    "    \n",
    "    # Split to get a list of 'n_steps' tensors of shape (batch_size, n_input)\n",
    "    x = tf.split(x, n_steps, 0)\n",
    "    \n",
    "    # Define a lstm cell with tensorflow\n",
    "    lstm_cell = rnn.BasicLSTMCell(n_hidden, forget_bias=1.0)\n",
    "    \n",
    "    # Get lstm cell output\n",
    "    outputs, states = rnn.static_rnn(lstm_cell, x, dtype=tf.float32)\n",
    "    \n",
    "    # Linear activation, using rnn inner loop last output\n",
    "    return tf.matmul(outputs[-1], weights['out']) + biases['out']\n",
    "\n",
    "pred = RNN(x, weights, biases)\n",
    "\n",
    "# Define loss and optimizer\n",
    "cost = tf.reduce_mean(tf.nn.softmax_cross_entropy_with_logits(logits=pred, labels=y))\n",
    "optimizer = tf.train.AdamOptimizer(learning_rate=learning_rate).minimize(cost)\n",
    "\n",
    "# Evaluate model\n",
    "correct_pred = tf.equal(tf.argmax(pred,1), tf.argmax(y,1))\n",
    "accuracy = tf.reduce_mean(tf.cast(correct_pred, tf.float32))\n",
    "\n",
    "# Initializing the variables\n",
    "init = tf.global_variables_initializer()"
   ]
  },
  {
   "cell_type": "code",
   "execution_count": 6,
   "metadata": {
    "collapsed": false,
    "scrolled": true
   },
   "outputs": [
    {
     "name": "stdout",
     "output_type": "stream",
     "text": [
      "Iter 1280, Minibatch Loss= 1.881373, Training Accuracy= 0.39062\n",
      "Iter 2560, Minibatch Loss= 1.632108, Training Accuracy= 0.51562\n",
      "Iter 3840, Minibatch Loss= 1.302206, Training Accuracy= 0.53906\n",
      "Iter 5120, Minibatch Loss= 1.045938, Training Accuracy= 0.67188\n",
      "Iter 6400, Minibatch Loss= 0.758279, Training Accuracy= 0.76562\n",
      "Iter 7680, Minibatch Loss= 1.183583, Training Accuracy= 0.63281\n",
      "Iter 8960, Minibatch Loss= 0.851983, Training Accuracy= 0.71875\n",
      "Iter 10240, Minibatch Loss= 0.703779, Training Accuracy= 0.75781\n",
      "Iter 11520, Minibatch Loss= 0.444089, Training Accuracy= 0.85156\n",
      "Iter 12800, Minibatch Loss= 0.710101, Training Accuracy= 0.74219\n",
      "Iter 14080, Minibatch Loss= 0.598087, Training Accuracy= 0.81250\n",
      "Iter 15360, Minibatch Loss= 0.361158, Training Accuracy= 0.86719\n",
      "Iter 16640, Minibatch Loss= 0.440866, Training Accuracy= 0.90625\n",
      "Iter 17920, Minibatch Loss= 0.330646, Training Accuracy= 0.89844\n",
      "Iter 19200, Minibatch Loss= 0.244139, Training Accuracy= 0.94531\n",
      "Iter 20480, Minibatch Loss= 0.207321, Training Accuracy= 0.95312\n",
      "Iter 21760, Minibatch Loss= 0.432065, Training Accuracy= 0.83594\n",
      "Iter 23040, Minibatch Loss= 0.174277, Training Accuracy= 0.92969\n",
      "Iter 24320, Minibatch Loss= 0.391996, Training Accuracy= 0.88281\n",
      "Iter 25600, Minibatch Loss= 0.379970, Training Accuracy= 0.85938\n",
      "Iter 26880, Minibatch Loss= 0.207922, Training Accuracy= 0.92969\n",
      "Iter 28160, Minibatch Loss= 0.253403, Training Accuracy= 0.91406\n",
      "Iter 29440, Minibatch Loss= 0.285891, Training Accuracy= 0.89062\n",
      "Iter 30720, Minibatch Loss= 0.307161, Training Accuracy= 0.89844\n",
      "Iter 32000, Minibatch Loss= 0.216256, Training Accuracy= 0.92188\n",
      "Iter 33280, Minibatch Loss= 0.273362, Training Accuracy= 0.89844\n",
      "Iter 34560, Minibatch Loss= 0.254734, Training Accuracy= 0.91406\n",
      "Iter 35840, Minibatch Loss= 0.290926, Training Accuracy= 0.89062\n",
      "Iter 37120, Minibatch Loss= 0.304388, Training Accuracy= 0.91406\n",
      "Iter 38400, Minibatch Loss= 0.171083, Training Accuracy= 0.95312\n",
      "Iter 39680, Minibatch Loss= 0.156777, Training Accuracy= 0.94531\n",
      "Iter 40960, Minibatch Loss= 0.412993, Training Accuracy= 0.85156\n",
      "Iter 42240, Minibatch Loss= 0.165562, Training Accuracy= 0.93750\n",
      "Iter 43520, Minibatch Loss= 0.201487, Training Accuracy= 0.92969\n",
      "Iter 44800, Minibatch Loss= 0.249032, Training Accuracy= 0.92188\n",
      "Iter 46080, Minibatch Loss= 0.181552, Training Accuracy= 0.92969\n",
      "Iter 47360, Minibatch Loss= 0.260337, Training Accuracy= 0.93750\n",
      "Iter 48640, Minibatch Loss= 0.274561, Training Accuracy= 0.92188\n",
      "Iter 49920, Minibatch Loss= 0.216874, Training Accuracy= 0.92188\n",
      "Iter 51200, Minibatch Loss= 0.106983, Training Accuracy= 0.95312\n",
      "Iter 52480, Minibatch Loss= 0.210193, Training Accuracy= 0.92969\n",
      "Iter 53760, Minibatch Loss= 0.038790, Training Accuracy= 0.98438\n",
      "Iter 55040, Minibatch Loss= 0.243508, Training Accuracy= 0.92188\n",
      "Iter 56320, Minibatch Loss= 0.117345, Training Accuracy= 0.96875\n",
      "Iter 57600, Minibatch Loss= 0.189319, Training Accuracy= 0.95312\n",
      "Iter 58880, Minibatch Loss= 0.162360, Training Accuracy= 0.94531\n",
      "Iter 60160, Minibatch Loss= 0.185178, Training Accuracy= 0.92969\n",
      "Iter 61440, Minibatch Loss= 0.199549, Training Accuracy= 0.92969\n",
      "Iter 62720, Minibatch Loss= 0.076141, Training Accuracy= 0.97656\n",
      "Iter 64000, Minibatch Loss= 0.153161, Training Accuracy= 0.95312\n",
      "Iter 65280, Minibatch Loss= 0.211419, Training Accuracy= 0.95312\n",
      "Iter 66560, Minibatch Loss= 0.086490, Training Accuracy= 0.98438\n",
      "Iter 67840, Minibatch Loss= 0.176579, Training Accuracy= 0.95312\n",
      "Iter 69120, Minibatch Loss= 0.171067, Training Accuracy= 0.96094\n",
      "Iter 70400, Minibatch Loss= 0.210820, Training Accuracy= 0.94531\n",
      "Iter 71680, Minibatch Loss= 0.254265, Training Accuracy= 0.92188\n",
      "Iter 72960, Minibatch Loss= 0.106119, Training Accuracy= 0.95312\n",
      "Iter 74240, Minibatch Loss= 0.116054, Training Accuracy= 0.94531\n",
      "Iter 75520, Minibatch Loss= 0.181112, Training Accuracy= 0.95312\n",
      "Iter 76800, Minibatch Loss= 0.107499, Training Accuracy= 0.97656\n",
      "Iter 78080, Minibatch Loss= 0.058525, Training Accuracy= 0.98438\n",
      "Iter 79360, Minibatch Loss= 0.126116, Training Accuracy= 0.95312\n",
      "Iter 80640, Minibatch Loss= 0.192862, Training Accuracy= 0.93750\n",
      "Iter 81920, Minibatch Loss= 0.060926, Training Accuracy= 0.98438\n",
      "Iter 83200, Minibatch Loss= 0.117030, Training Accuracy= 0.96875\n",
      "Iter 84480, Minibatch Loss= 0.131644, Training Accuracy= 0.94531\n",
      "Iter 85760, Minibatch Loss= 0.072465, Training Accuracy= 0.97656\n",
      "Iter 87040, Minibatch Loss= 0.054337, Training Accuracy= 0.98438\n",
      "Iter 88320, Minibatch Loss= 0.124317, Training Accuracy= 0.94531\n",
      "Iter 89600, Minibatch Loss= 0.086208, Training Accuracy= 0.96875\n",
      "Iter 90880, Minibatch Loss= 0.122786, Training Accuracy= 0.95312\n",
      "Iter 92160, Minibatch Loss= 0.045300, Training Accuracy= 0.99219\n",
      "Iter 93440, Minibatch Loss= 0.042285, Training Accuracy= 0.98438\n",
      "Iter 94720, Minibatch Loss= 0.037845, Training Accuracy= 1.00000\n",
      "Iter 96000, Minibatch Loss= 0.164237, Training Accuracy= 0.93750\n",
      "Iter 97280, Minibatch Loss= 0.127567, Training Accuracy= 0.96875\n",
      "Iter 98560, Minibatch Loss= 0.053194, Training Accuracy= 0.98438\n",
      "Iter 99840, Minibatch Loss= 0.107506, Training Accuracy= 0.97656\n",
      "Optimization Finished!\n",
      "Testing Accuracy: 0.992188\n"
     ]
    }
   ],
   "source": [
    "# Launch the graph\n",
    "with tf.Session() as sess:\n",
    "    sess.run(init)\n",
    "    step = 1\n",
    "    # Keep training until reach max iterations\n",
    "    while step * batch_size < training_iters:\n",
    "        batch_x, batch_y = mnist.train.next_batch(batch_size)\n",
    "        # Reshape data to get 28 seq of 28 elements\n",
    "        batch_x = batch_x.reshape((batch_size, n_steps, n_input))\n",
    "        # Run optimization op (backprop)\n",
    "        sess.run(optimizer, feed_dict={x: batch_x, y: batch_y})\n",
    "        if step % display_step == 0:\n",
    "            # Calculate batch accuracy\n",
    "            acc = sess.run(accuracy, feed_dict={x: batch_x, y: batch_y})\n",
    "            # Calculate batch loss\n",
    "            loss = sess.run(cost, feed_dict={x: batch_x, y: batch_y})\n",
    "            print \"Iter \" + str(step*batch_size) + \", Minibatch Loss= \" + \\\n",
    "                  \"{:.6f}\".format(loss) + \", Training Accuracy= \" + \\\n",
    "                  \"{:.5f}\".format(acc)\n",
    "        step += 1\n",
    "    print \"Optimization Finished!\"\n",
    "\n",
    "    # Calculate accuracy for 128 mnist test images\n",
    "    test_len = 128\n",
    "    test_data = mnist.test.images[:test_len].reshape((-1, n_steps, n_input))\n",
    "    test_label = mnist.test.labels[:test_len]\n",
    "    print \"Testing Accuracy:\", \\\n",
    "        sess.run(accuracy, feed_dict={x: test_data, y: test_label})"
   ]
  }
 ],
 "metadata": {
  "kernelspec": {
   "display_name": "Python 2 (Tensorflow)",
   "language": "python",
   "name": "tensorflow"
  },
  "language_info": {
   "codemirror_mode": {
    "name": "ipython",
    "version": 2
   },
   "file_extension": ".py",
   "mimetype": "text/x-python",
   "name": "python",
   "nbconvert_exporter": "python",
   "pygments_lexer": "ipython2",
   "version": "2.7.6"
  }
 },
 "nbformat": 4,
 "nbformat_minor": 1
}
